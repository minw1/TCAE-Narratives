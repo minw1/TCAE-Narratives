{
 "cells": [
  {
   "cell_type": "code",
   "execution_count": 3,
   "id": "64ac7138",
   "metadata": {},
   "outputs": [
    {
     "name": "stdout",
     "output_type": "stream",
     "text": [
      "  participant_id      age  sex           task condition comprehension\n",
      "0        sub-001    22,23  F,F  pieman,tunnel   n/a,n/a       n/a,n/a\n",
      "1        sub-002       20    M         pieman       NaN           NaN\n",
      "2        sub-003      NaN    F         pieman       NaN           NaN\n",
      "3        sub-004    24,24  M,M  pieman,tunnel   n/a,n/a       n/a,n/a\n",
      "4        sub-005  n/a,n/a  M,M  pieman,tunnel   n/a,n/a       n/a,n/a\n",
      "participant_id                         sub-295\n",
      "age                                18,18,18,18\n",
      "sex                                    F,F,F,F\n",
      "task              piemanpni,bronx,forgot,black\n",
      "condition                      n/a,n/a,n/a,n/a\n",
      "comprehension              0.45,0.64,0.64,0.72\n",
      "Name: 294, dtype: object\n"
     ]
    }
   ],
   "source": [
    "import pandas as pd\n",
    "import json\n",
    "\n",
    "df = pd.read_csv('../participants.tsv', sep='\\t')\n",
    "with open(\"scan_exclude.json\",\"r\") as file:\n",
    "    exclusion_dict = json.load(file)\n",
    "print(df.head())\n",
    "contains_pieman = df[\"task\"].str.contains(\"pieman\")\n",
    "to_exclude = df[\"participant_id\"].isin(exclusion_dict[\"pieman\"].keys())\n",
    "\n",
    "\n",
    "\n",
    "#print(contains_pieman & (~to_exclude))\n",
    "#print(df[\"participant_id\"][contains_pieman & (~to_exclude)].shape)\n",
    "#print(df[\"participant_id\"][contains_pieman & (~to_exclude)].iloc[0])\n",
    "print(df.iloc[294,:])"
   ]
  },
  {
   "cell_type": "code",
   "execution_count": 4,
   "id": "2e0312e1",
   "metadata": {},
   "outputs": [
    {
     "name": "stdout",
     "output_type": "stream",
     "text": [
      "(81924,)\n",
      "2.2157414\n",
      "11.065452\n"
     ]
    }
   ],
   "source": [
    "from gen_vox import get_vox\n",
    "import numpy as np\n",
    "signal = get_vox(\"pieman\",\"sub-002\",\"fsaverage6\")\n",
    "print(signal[1].shape)\n",
    "print(np.mean(signal[1,:]))\n",
    "print(np.var(signal[1,:]))\n"
   ]
  },
  {
   "cell_type": "code",
   "execution_count": null,
   "id": "370bd9bd",
   "metadata": {},
   "outputs": [],
   "source": []
  }
 ],
 "metadata": {
  "kernelspec": {
   "display_name": "Python 3",
   "language": "python",
   "name": "python3"
  },
  "language_info": {
   "codemirror_mode": {
    "name": "ipython",
    "version": 3
   },
   "file_extension": ".py",
   "mimetype": "text/x-python",
   "name": "python",
   "nbconvert_exporter": "python",
   "pygments_lexer": "ipython3",
   "version": "3.7.12"
  }
 },
 "nbformat": 4,
 "nbformat_minor": 5
}
